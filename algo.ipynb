{
 "cells": [
  {
   "cell_type": "code",
   "execution_count": 64,
   "metadata": {},
   "outputs": [],
   "source": [
    "# parameters\n",
    "#add cli interafcing\n",
    "\n",
    "#time it takes for one vehicle to cross\n",
    "average_time_per_vehicle = 4\n",
    "gst_inital = 60 #green singal time\n",
    "yellow = 5 #time per yellow light\n",
    "\n",
    "wait_time_increase_factor = 1 # assuming there are no delays for longer ques\n",
    "#increase if average delay is not constant\n",
    "\n",
    "\n",
    "#min max green light times\n",
    "min_gst = 10\n",
    "max_gst = 200\n"
   ]
  },
  {
   "cell_type": "code",
   "execution_count": 65,
   "metadata": {},
   "outputs": [],
   "source": [
    "# assume first iteration of signal is complete"
   ]
  },
  {
   "cell_type": "code",
   "execution_count": 66,
   "metadata": {},
   "outputs": [
    {
     "name": "stdout",
     "output_type": "stream",
     "text": [
      "8104921329389632706\n",
      "[2, 1, 87, 30, 43]\n"
     ]
    }
   ],
   "source": [
    "#feed model input here\n",
    "#lanes as no. of lanes\n",
    "#and vehiclle count for each list as a list\n",
    "\n",
    "import random\n",
    "import sys\n",
    "\n",
    "seed = random.randrange(sys.maxsize)\n",
    "random.seed(seed)\n",
    "\n",
    "no_lanes = random.randint(2,6)\n",
    "no_vehicles = [random.randint(0,100) for _ in range(no_lanes)]\n",
    "\n",
    "print(seed)\n",
    "print(no_vehicles)"
   ]
  },
  {
   "cell_type": "code",
   "execution_count": 67,
   "metadata": {},
   "outputs": [
    {
     "data": {
      "text/plain": [
       "[10, 10, 200, 120, 172]"
      ]
     },
     "execution_count": 67,
     "metadata": {},
     "output_type": "execute_result"
    }
   ],
   "source": [
    "gcs_new = 0\n",
    "green_time = list()\n",
    "for i in no_vehicles:\n",
    "    x = wait_time_increase_factor *i*average_time_per_vehicle\n",
    "    x = min(x, max_gst)\n",
    "    x = max(x, min_gst)\n",
    "    green_time.append(x)\n",
    "green_time"
   ]
  },
  {
   "cell_type": "code",
   "execution_count": 68,
   "metadata": {},
   "outputs": [
    {
     "data": {
      "text/plain": [
       "[522, 522, 332, 412, 360]"
      ]
     },
     "execution_count": 68,
     "metadata": {},
     "output_type": "execute_result"
    }
   ],
   "source": [
    "red_time = list()\n",
    "#assuming a yellow light only after the green light\n",
    "for i in range(no_lanes):\n",
    "    red_time.append(sum(green_time[0:i]) + sum(green_time[i+1:no_lanes]) + yellow*(no_lanes-1))\n",
    "\n",
    "red_time"
   ]
  },
  {
   "cell_type": "code",
   "execution_count": 69,
   "metadata": {},
   "outputs": [
    {
     "name": "stdout",
     "output_type": "stream",
     "text": [
      "Lane No: 1\n",
      "\t Green: 10\n",
      "\t Yellow: 5\n",
      "\t Red: 522\n",
      "Lane No: 2\n",
      "\t Green: 10\n",
      "\t Yellow: 5\n",
      "\t Red: 522\n",
      "Lane No: 3\n",
      "\t Green: 200\n",
      "\t Yellow: 5\n",
      "\t Red: 332\n",
      "Lane No: 4\n",
      "\t Green: 120\n",
      "\t Yellow: 5\n",
      "\t Red: 412\n",
      "Lane No: 5\n",
      "\t Green: 172\n",
      "\t Yellow: 5\n",
      "\t Red: 360\n"
     ]
    }
   ],
   "source": [
    "#simulation\n",
    "#currently lane 4 transitioning from green to yellow\n",
    "#5 secs to run this algorithm\n",
    "#lane 1 turning on green timer\n",
    "for i in range(no_lanes):\n",
    "    print(\"Lane No: \" + str(i+1))\n",
    "    print(\"\\t Green: \" + str(green_time[i]))\n",
    "    print(\"\\t Yellow: 5\")\n",
    "    print(\"\\t Red: \" + str(red_time[i]))"
   ]
  },
  {
   "cell_type": "code",
   "execution_count": null,
   "metadata": {},
   "outputs": [],
   "source": []
  }
 ],
 "metadata": {
  "kernelspec": {
   "display_name": "base2",
   "language": "python",
   "name": "python3"
  },
  "language_info": {
   "codemirror_mode": {
    "name": "ipython",
    "version": 3
   },
   "file_extension": ".py",
   "mimetype": "text/x-python",
   "name": "python",
   "nbconvert_exporter": "python",
   "pygments_lexer": "ipython3",
   "version": "3.12.4"
  }
 },
 "nbformat": 4,
 "nbformat_minor": 2
}
